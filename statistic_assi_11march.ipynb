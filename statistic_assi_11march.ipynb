{
 "cells": [
  {
   "cell_type": "code",
   "execution_count": null,
   "id": "1f644e77-9b27-424d-a5be-c510e6890554",
   "metadata": {},
   "outputs": [],
   "source": [
    "'''\n",
    "Q1: What is the difference between a t-test and a z-test? Provide an example scenario where you would\n",
    "use each type of test.\n",
    "'''\n",
    "Z-test is the statistical test to used to determine if there is a significant difference between \n",
    "sample and population means, or between two sample means, when the population variance is known and\n",
    "the sample size is large (typically n > 30). \n",
    " \n",
    "T test is also used to  determine if there is a significant difference between \n",
    "sample and population means.\n",
    "\n",
    "but the main difference between the z test and t_test is z_test is used when the standard deviation is given \n",
    "and t_test is used when standard deviation is not given "
   ]
  },
  {
   "cell_type": "code",
   "execution_count": null,
   "id": "e77f8f06-af4c-4ebb-abcb-47bba38eb832",
   "metadata": {},
   "outputs": [],
   "source": [
    "'''\n",
    "Q2: Differentiate between one-tailed and two-tailed tests.\n",
    "'''\n",
    "\n",
    "\n",
    "One-tailed test: A statistical test where the hypothesis is directional, meaning you\n",
    "re testing whether a parameter is greater than or less than a certain value, but not both. \n",
    "It focuses on one side of the distribution.\n",
    "\n",
    "Two-tailed test: A test where the hypothesis is non-directional, meaning you\n",
    "testing whether a parameter is significantly different from a certain value (either greater or lesser). \n",
    "It considers both ends (tails) of the distribution"
   ]
  },
  {
   "cell_type": "code",
   "execution_count": null,
   "id": "f5833222-5a64-4607-821f-23269a2acc69",
   "metadata": {},
   "outputs": [],
   "source": [
    "'''\n",
    "Q3: Explain the concept of Type 1 and Type 2 errors in hypothesis testing. Provide an example scenario for\n",
    "each type of error.\n",
    "'''\n",
    "Type 1 Error (False Positive): Occurs when you reject a true null hypothesis. \n",
    "For example, concluding that a new drug is effective when it actually isn't.\n",
    "\n",
    "Type 2 Error (False Negative): Occurs when you fail to reject a false null hypothesis.\n",
    "For example, concluding that a new drug isn't effective when it actually is."
   ]
  },
  {
   "cell_type": "code",
   "execution_count": null,
   "id": "bb37c917-69b6-4950-adfb-8b8836d4b781",
   "metadata": {},
   "outputs": [],
   "source": [
    "'''\n",
    "Q4: Explain Bayes's theorem with an example.\n",
    "'''\n",
    "Bayess Theorem is a mathematical formula used to update the probability of a hypothesis based\n",
    "on new evidence. It combines prior probability (initial belief) and likelihood (evidence) to\n",
    "calculate the posterior probability (updated belief)."
   ]
  },
  {
   "cell_type": "code",
   "execution_count": null,
   "id": "fa682f6f-6148-49a9-8c68-b8fd2c1eeafe",
   "metadata": {},
   "outputs": [],
   "source": [
    "'''\n",
    "Q5: What is a confidence interval? How to calculate the confidence interval, explain with an example.\n",
    "'''\n",
    "\n",
    "a confidance interval is the range of values derived from a sample of data that is used to estimate \n",
    "unknown population parameter with certain level of confidance .\n"
   ]
  },
  {
   "cell_type": "code",
   "execution_count": null,
   "id": "affc5087-ff8f-4509-82d1-8e80b329d76b",
   "metadata": {},
   "outputs": [],
   "source": [
    "'''\n",
    "Q6. Use Bayes' Theorem to calculate the probability of an event occurring given prior knowledge of the\n",
    "event's probability and new evidence. Provide a sample problem and solution.\n",
    "'''\n",
    "\n",
    "\n"
   ]
  },
  {
   "cell_type": "code",
   "execution_count": null,
   "id": "032d70e0-1cfd-47de-b1c3-ba02a0cbbf8a",
   "metadata": {},
   "outputs": [],
   "source": [
    "'''\n",
    "Q8. What is the margin of error in a confidence interval? How does sample size affect the margin of error?\n",
    "Provide an example of a scenario where a larger sample size would result in a smaller margin of error.\n",
    "'''\n",
    "Margin of Error is the range within which the true population parameter is expected to lie, given a confidence level. \n",
    "It reflects the level of uncertainty or possible error in the estimate from the sample.\n",
    "\n",
    "Effect of Sample Size:\n",
    "    Larger Sample Size: Reduces the margin of error, as it provides more precise estimates.\n",
    "    Smaller Sample Size: Increases the margin of error, leading to less precise estimates."
   ]
  },
  {
   "cell_type": "code",
   "execution_count": null,
   "id": "1a763c81-150e-42eb-a0be-8fc707009adf",
   "metadata": {},
   "outputs": [],
   "source": []
  },
  {
   "cell_type": "code",
   "execution_count": null,
   "id": "65dc4f12-b2bf-4885-b7c3-ea68d1084cfc",
   "metadata": {},
   "outputs": [],
   "source": []
  },
  {
   "cell_type": "code",
   "execution_count": null,
   "id": "aaace3bd-e814-497a-8f6b-b5513ef79dff",
   "metadata": {},
   "outputs": [],
   "source": []
  },
  {
   "cell_type": "code",
   "execution_count": null,
   "id": "ade1eca6-c1bb-4912-9901-76b3ce76b8f0",
   "metadata": {},
   "outputs": [],
   "source": []
  },
  {
   "cell_type": "code",
   "execution_count": null,
   "id": "db9bad96-4207-4b31-a9da-c44bba7fa51a",
   "metadata": {},
   "outputs": [],
   "source": []
  },
  {
   "cell_type": "code",
   "execution_count": null,
   "id": "306697d6-ab93-4d44-bef5-47b324cbc6c8",
   "metadata": {},
   "outputs": [],
   "source": []
  },
  {
   "cell_type": "code",
   "execution_count": null,
   "id": "4a512ff9-71d6-4993-937d-836876803cc1",
   "metadata": {},
   "outputs": [],
   "source": []
  }
 ],
 "metadata": {
  "kernelspec": {
   "display_name": "Python 3 (ipykernel)",
   "language": "python",
   "name": "python3"
  },
  "language_info": {
   "codemirror_mode": {
    "name": "ipython",
    "version": 3
   },
   "file_extension": ".py",
   "mimetype": "text/x-python",
   "name": "python",
   "nbconvert_exporter": "python",
   "pygments_lexer": "ipython3",
   "version": "3.10.8"
  }
 },
 "nbformat": 4,
 "nbformat_minor": 5
}
